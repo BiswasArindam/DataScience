{
 "cells": [
  {
   "cell_type": "markdown",
   "metadata": {},
   "source": [
    "## Introduction to R"
   ]
  },
  {
   "cell_type": "code",
   "execution_count": 1,
   "metadata": {},
   "outputs": [],
   "source": [
    "#Assigning a character string to a variablema\n",
    "x <- \"Hello World!\""
   ]
  },
  {
   "cell_type": "code",
   "execution_count": 2,
   "metadata": {},
   "outputs": [
    {
     "name": "stdout",
     "output_type": "stream",
     "text": [
      "[1] \"Hello World!\"\n"
     ]
    }
   ],
   "source": [
    "#Print the variable\n",
    "print(x) #explicit printing"
   ]
  },
  {
   "cell_type": "code",
   "execution_count": 3,
   "metadata": {},
   "outputs": [],
   "source": [
    "#Assignment Operators\n",
    "y = \"Hello World!\"\n",
    "\"Hello World!\" -> z"
   ]
  },
  {
   "cell_type": "code",
   "execution_count": 4,
   "metadata": {},
   "outputs": [
    {
     "data": {
      "text/html": [
       "'Hello World!'"
      ],
      "text/latex": [
       "'Hello World!'"
      ],
      "text/markdown": [
       "'Hello World!'"
      ],
      "text/plain": [
       "[1] \"Hello World!\""
      ]
     },
     "metadata": {},
     "output_type": "display_data"
    }
   ],
   "source": [
    "#Implicit Printing\n",
    "y"
   ]
  },
  {
   "cell_type": "code",
   "execution_count": 5,
   "metadata": {},
   "outputs": [],
   "source": [
    "#Variables\n",
    "logical <- TRUE #boolean variable\n",
    "integer <- 123L #L stands for long, for long integer (32-bit) integer\n",
    "numeric <- 1.23 #numeric value contains decimal precision numeric value\n",
    "character <- \"ABC 123\" #character string\n",
    "date <- as.Date(\"2018-07-18\") #date and time data type"
   ]
  },
  {
   "cell_type": "code",
   "execution_count": 6,
   "metadata": {},
   "outputs": [
    {
     "data": {
      "text/html": [
       "TRUE"
      ],
      "text/latex": [
       "TRUE"
      ],
      "text/markdown": [
       "TRUE"
      ],
      "text/plain": [
       "[1] TRUE"
      ]
     },
     "metadata": {},
     "output_type": "display_data"
    },
    {
     "data": {
      "text/html": [
       "123"
      ],
      "text/latex": [
       "123"
      ],
      "text/markdown": [
       "123"
      ],
      "text/plain": [
       "[1] 123"
      ]
     },
     "metadata": {},
     "output_type": "display_data"
    },
    {
     "data": {
      "text/html": [
       "1.23"
      ],
      "text/latex": [
       "1.23"
      ],
      "text/markdown": [
       "1.23"
      ],
      "text/plain": [
       "[1] 1.23"
      ]
     },
     "metadata": {},
     "output_type": "display_data"
    },
    {
     "data": {
      "text/html": [
       "'ABC 123'"
      ],
      "text/latex": [
       "'ABC 123'"
      ],
      "text/markdown": [
       "'ABC 123'"
      ],
      "text/plain": [
       "[1] \"ABC 123\""
      ]
     },
     "metadata": {},
     "output_type": "display_data"
    },
    {
     "data": {
      "text/html": [
       "<time datetime=\"2018-07-18\">2018-07-18</time>"
      ],
      "text/latex": [
       "2018-07-18"
      ],
      "text/markdown": [
       "2018-07-18"
      ],
      "text/plain": [
       "[1] \"2018-07-18\""
      ]
     },
     "metadata": {},
     "output_type": "display_data"
    }
   ],
   "source": [
    "#Displaying Variables\n",
    "logical\n",
    "integer\n",
    "numeric\n",
    "character\n",
    "date"
   ]
  },
  {
   "cell_type": "code",
   "execution_count": 7,
   "metadata": {},
   "outputs": [],
   "source": [
    "# Creating a function\n",
    "f <- function(x) { x+1 }"
   ]
  },
  {
   "cell_type": "code",
   "execution_count": 8,
   "metadata": {},
   "outputs": [
    {
     "data": {
      "text/html": [
       "3"
      ],
      "text/latex": [
       "3"
      ],
      "text/markdown": [
       "3"
      ],
      "text/plain": [
       "[1] 3"
      ]
     },
     "metadata": {},
     "output_type": "display_data"
    }
   ],
   "source": [
    "# Invoking a function\n",
    "f(2)"
   ]
  },
  {
   "cell_type": "markdown",
   "metadata": {},
   "source": [
    "### Vector\n",
    "\n",
    "Vector is a basic data structure in R. It contains element of the same type. \n",
    "The data types can be logical, integer, double, character, complex or raw. \n",
    "A vector's type can be checked with the typeof() function."
   ]
  },
  {
   "cell_type": "code",
   "execution_count": 9,
   "metadata": {},
   "outputs": [
    {
     "data": {
      "text/html": [
       "<ol class=list-inline>\n",
       "\t<li>1</li>\n",
       "\t<li>2</li>\n",
       "\t<li>3</li>\n",
       "</ol>\n"
      ],
      "text/latex": [
       "\\begin{enumerate*}\n",
       "\\item 1\n",
       "\\item 2\n",
       "\\item 3\n",
       "\\end{enumerate*}\n"
      ],
      "text/markdown": [
       "1. 1\n",
       "2. 2\n",
       "3. 3\n",
       "\n",
       "\n"
      ],
      "text/plain": [
       "[1] 1 2 3"
      ]
     },
     "metadata": {},
     "output_type": "display_data"
    }
   ],
   "source": [
    "# Creating a vector\n",
    "v <- c(1, 2, 3);\n",
    "v"
   ]
  },
  {
   "cell_type": "code",
   "execution_count": 10,
   "metadata": {},
   "outputs": [
    {
     "data": {
      "text/html": [
       "<ol class=list-inline>\n",
       "\t<li>1</li>\n",
       "\t<li>2</li>\n",
       "\t<li>3</li>\n",
       "\t<li>4</li>\n",
       "\t<li>5</li>\n",
       "</ol>\n"
      ],
      "text/latex": [
       "\\begin{enumerate*}\n",
       "\\item 1\n",
       "\\item 2\n",
       "\\item 3\n",
       "\\item 4\n",
       "\\item 5\n",
       "\\end{enumerate*}\n"
      ],
      "text/markdown": [
       "1. 1\n",
       "2. 2\n",
       "3. 3\n",
       "4. 4\n",
       "5. 5\n",
       "\n",
       "\n"
      ],
      "text/plain": [
       "[1] 1 2 3 4 5"
      ]
     },
     "metadata": {},
     "output_type": "display_data"
    }
   ],
   "source": [
    "# Creating a sequence\n",
    "s <- 1:5 #ascending order\n",
    "s"
   ]
  },
  {
   "cell_type": "code",
   "execution_count": 11,
   "metadata": {},
   "outputs": [
    {
     "data": {
      "text/html": [
       "<ol class=list-inline>\n",
       "\t<li>5</li>\n",
       "\t<li>4</li>\n",
       "\t<li>3</li>\n",
       "\t<li>2</li>\n",
       "\t<li>1</li>\n",
       "</ol>\n"
      ],
      "text/latex": [
       "\\begin{enumerate*}\n",
       "\\item 5\n",
       "\\item 4\n",
       "\\item 3\n",
       "\\item 2\n",
       "\\item 1\n",
       "\\end{enumerate*}\n"
      ],
      "text/markdown": [
       "1. 5\n",
       "2. 4\n",
       "3. 3\n",
       "4. 2\n",
       "5. 1\n",
       "\n",
       "\n"
      ],
      "text/plain": [
       "[1] 5 4 3 2 1"
      ]
     },
     "metadata": {},
     "output_type": "display_data"
    }
   ],
   "source": [
    "s <- 5:1 #descending order\n",
    "s"
   ]
  },
  {
   "cell_type": "code",
   "execution_count": 12,
   "metadata": {},
   "outputs": [
    {
     "data": {
      "text/html": [
       "<table>\n",
       "<tbody>\n",
       "\t<tr><td>1</td><td>3</td><td>5</td></tr>\n",
       "\t<tr><td>2</td><td>4</td><td>6</td></tr>\n",
       "</tbody>\n",
       "</table>\n"
      ],
      "text/latex": [
       "\\begin{tabular}{lll}\n",
       "\t 1 & 3 & 5\\\\\n",
       "\t 2 & 4 & 6\\\\\n",
       "\\end{tabular}\n"
      ],
      "text/markdown": [
       "\n",
       "| 1 | 3 | 5 | \n",
       "| 2 | 4 | 6 | \n",
       "\n",
       "\n"
      ],
      "text/plain": [
       "     [,1] [,2] [,3]\n",
       "[1,] 1    3    5   \n",
       "[2,] 2    4    6   "
      ]
     },
     "metadata": {},
     "output_type": "display_data"
    }
   ],
   "source": [
    "# Creating a matrix\n",
    "m <- matrix(data = 1:6, nrow=2, ncol=3) #matrix of 2*3\n",
    "m"
   ]
  },
  {
   "cell_type": "code",
   "execution_count": 13,
   "metadata": {},
   "outputs": [
    {
     "data": {
      "text/html": [
       "<ol class=list-inline>\n",
       "\t<li>1</li>\n",
       "\t<li>2</li>\n",
       "\t<li>3</li>\n",
       "\t<li>4</li>\n",
       "\t<li>5</li>\n",
       "\t<li>6</li>\n",
       "\t<li>7</li>\n",
       "\t<li>8</li>\n",
       "</ol>\n"
      ],
      "text/latex": [
       "\\begin{enumerate*}\n",
       "\\item 1\n",
       "\\item 2\n",
       "\\item 3\n",
       "\\item 4\n",
       "\\item 5\n",
       "\\item 6\n",
       "\\item 7\n",
       "\\item 8\n",
       "\\end{enumerate*}\n"
      ],
      "text/markdown": [
       "1. 1\n",
       "2. 2\n",
       "3. 3\n",
       "4. 4\n",
       "5. 5\n",
       "6. 6\n",
       "7. 7\n",
       "8. 8\n",
       "\n",
       "\n"
      ],
      "text/plain": [
       ", , 1\n",
       "\n",
       "     [,1] [,2]\n",
       "[1,]    1    3\n",
       "[2,]    2    4\n",
       "\n",
       ", , 2\n",
       "\n",
       "     [,1] [,2]\n",
       "[1,]    5    7\n",
       "[2,]    6    8\n"
      ]
     },
     "metadata": {},
     "output_type": "display_data"
    }
   ],
   "source": [
    "# Creating an array\n",
    "a <- array(data=1:8, dim=c(2,2,2)) #array of 2*2*2\n",
    "a"
   ]
  },
  {
   "cell_type": "code",
   "execution_count": 14,
   "metadata": {},
   "outputs": [
    {
     "data": {
      "text/html": [
       "<ol>\n",
       "\t<li>123.45</li>\n",
       "\t<li>TRUE</li>\n",
       "\t<li>123</li>\n",
       "\t<li>'abc'</li>\n",
       "</ol>\n"
      ],
      "text/latex": [
       "\\begin{enumerate}\n",
       "\\item 123.45\n",
       "\\item TRUE\n",
       "\\item 123\n",
       "\\item 'abc'\n",
       "\\end{enumerate}\n"
      ],
      "text/markdown": [
       "1. 123.45\n",
       "2. TRUE\n",
       "3. 123\n",
       "4. 'abc'\n",
       "\n",
       "\n"
      ],
      "text/plain": [
       "[[1]]\n",
       "[1] 123.45\n",
       "\n",
       "[[2]]\n",
       "[1] TRUE\n",
       "\n",
       "[[3]]\n",
       "[1] 123\n",
       "\n",
       "[[4]]\n",
       "[1] \"abc\"\n"
      ]
     },
     "metadata": {},
     "output_type": "display_data"
    }
   ],
   "source": [
    "# Creating a list\n",
    "l <- list(123.45, TRUE, 123L, \"abc\") #list can store heterogeneous values\n",
    "l"
   ]
  },
  {
   "cell_type": "code",
   "execution_count": 15,
   "metadata": {},
   "outputs": [
    {
     "data": {
      "text/html": [
       "<ol class=list-inline>\n",
       "\t<li>Male</li>\n",
       "\t<li>Female</li>\n",
       "\t<li>Male</li>\n",
       "\t<li>Male</li>\n",
       "\t<li>Female</li>\n",
       "</ol>\n",
       "\n",
       "<details>\n",
       "\t<summary style=display:list-item;cursor:pointer>\n",
       "\t\t<strong>Levels</strong>:\n",
       "\t</summary>\n",
       "\t<ol class=list-inline>\n",
       "\t\t<li>'Female'</li>\n",
       "\t\t<li>'Male'</li>\n",
       "\t</ol>\n",
       "</details>"
      ],
      "text/latex": [
       "\\begin{enumerate*}\n",
       "\\item Male\n",
       "\\item Female\n",
       "\\item Male\n",
       "\\item Male\n",
       "\\item Female\n",
       "\\end{enumerate*}\n",
       "\n",
       "\\emph{Levels}: \\begin{enumerate*}\n",
       "\\item 'Female'\n",
       "\\item 'Male'\n",
       "\\end{enumerate*}\n"
      ],
      "text/markdown": [
       "1. Male\n",
       "2. Female\n",
       "3. Male\n",
       "4. Male\n",
       "5. Female\n",
       "\n",
       "\n",
       "\n",
       "**Levels**: 1. 'Female'\n",
       "2. 'Male'\n",
       "\n",
       "\n"
      ],
      "text/plain": [
       "[1] Male   Female Male   Male   Female\n",
       "Levels: Female Male"
      ]
     },
     "metadata": {},
     "output_type": "display_data"
    },
    {
     "data": {
      "text/html": [
       "<ol class=list-inline>\n",
       "\t<li>'Female'</li>\n",
       "\t<li>'Male'</li>\n",
       "</ol>\n"
      ],
      "text/latex": [
       "\\begin{enumerate*}\n",
       "\\item 'Female'\n",
       "\\item 'Male'\n",
       "\\end{enumerate*}\n"
      ],
      "text/markdown": [
       "1. 'Female'\n",
       "2. 'Male'\n",
       "\n",
       "\n"
      ],
      "text/plain": [
       "[1] \"Female\" \"Male\"  "
      ]
     },
     "metadata": {},
     "output_type": "display_data"
    },
    {
     "data": {
      "text/html": [
       "<ol class=list-inline>\n",
       "\t<li>2</li>\n",
       "\t<li>1</li>\n",
       "\t<li>2</li>\n",
       "\t<li>2</li>\n",
       "\t<li>1</li>\n",
       "</ol>\n"
      ],
      "text/latex": [
       "\\begin{enumerate*}\n",
       "\\item 2\n",
       "\\item 1\n",
       "\\item 2\n",
       "\\item 2\n",
       "\\item 1\n",
       "\\end{enumerate*}\n"
      ],
      "text/markdown": [
       "1. 2\n",
       "2. 1\n",
       "3. 2\n",
       "4. 2\n",
       "5. 1\n",
       "\n",
       "\n"
      ],
      "text/plain": [
       "[1] 2 1 2 2 1\n",
       "attr(,\"levels\")\n",
       "[1] \"Female\" \"Male\"  "
      ]
     },
     "metadata": {},
     "output_type": "display_data"
    }
   ],
   "source": [
    "# Creating a factor\n",
    "categories <- c(\"Male\", \"Female\", \"Male\", \"Male\", \"Female\") #list of categorical values\n",
    "factor <- factor(categories) \n",
    "factor # 5 values with two levels- Male & Female\n",
    "levels(factor) #list of unique name values or levels\n",
    "unclass(factor)"
   ]
  },
  {
   "cell_type": "code",
   "execution_count": 16,
   "metadata": {},
   "outputs": [
    {
     "data": {
      "text/html": [
       "<table>\n",
       "<thead><tr><th scope=col>Name</th><th scope=col>HowMany</th><th scope=col>IsPet</th></tr></thead>\n",
       "<tbody>\n",
       "\t<tr><td>Cat  </td><td> 5   </td><td> TRUE</td></tr>\n",
       "\t<tr><td>Dog  </td><td>10   </td><td> TRUE</td></tr>\n",
       "\t<tr><td>Cow  </td><td>15   </td><td> TRUE</td></tr>\n",
       "\t<tr><td>Bear </td><td>20   </td><td>FALSE</td></tr>\n",
       "</tbody>\n",
       "</table>\n"
      ],
      "text/latex": [
       "\\begin{tabular}{r|lll}\n",
       " Name & HowMany & IsPet\\\\\n",
       "\\hline\n",
       "\t Cat   &  5    &  TRUE\\\\\n",
       "\t Dog   & 10    &  TRUE\\\\\n",
       "\t Cow   & 15    &  TRUE\\\\\n",
       "\t Bear  & 20    & FALSE\\\\\n",
       "\\end{tabular}\n"
      ],
      "text/markdown": [
       "\n",
       "Name | HowMany | IsPet | \n",
       "|---|---|---|---|\n",
       "| Cat   |  5    |  TRUE | \n",
       "| Dog   | 10    |  TRUE | \n",
       "| Cow   | 15    |  TRUE | \n",
       "| Bear  | 20    | FALSE | \n",
       "\n",
       "\n"
      ],
      "text/plain": [
       "  Name HowMany IsPet\n",
       "1 Cat   5       TRUE\n",
       "2 Dog  10       TRUE\n",
       "3 Cow  15       TRUE\n",
       "4 Bear 20      FALSE"
      ]
     },
     "metadata": {},
     "output_type": "display_data"
    }
   ],
   "source": [
    "# Creating a dataframe\n",
    "df <- data.frame(\n",
    "Name = c(\"Cat\", \"Dog\", \"Cow\", \"Bear\"),\n",
    "HowMany = c(5, 10, 15, 20),\n",
    "IsPet = c(TRUE, TRUE, TRUE, FALSE))\n",
    "df"
   ]
  },
  {
   "cell_type": "code",
   "execution_count": 17,
   "metadata": {},
   "outputs": [
    {
     "data": {
      "text/html": [
       "5"
      ],
      "text/latex": [
       "5"
      ],
      "text/markdown": [
       "5"
      ],
      "text/plain": [
       "[1] 5"
      ]
     },
     "metadata": {},
     "output_type": "display_data"
    }
   ],
   "source": [
    "# Indexing dataframes by row and column\n",
    "df[1,2]"
   ]
  },
  {
   "cell_type": "code",
   "execution_count": 18,
   "metadata": {},
   "outputs": [
    {
     "data": {
      "text/html": [
       "<table>\n",
       "<thead><tr><th scope=col>Name</th><th scope=col>HowMany</th><th scope=col>IsPet</th></tr></thead>\n",
       "<tbody>\n",
       "\t<tr><td>Cat </td><td>5   </td><td>TRUE</td></tr>\n",
       "</tbody>\n",
       "</table>\n"
      ],
      "text/latex": [
       "\\begin{tabular}{r|lll}\n",
       " Name & HowMany & IsPet\\\\\n",
       "\\hline\n",
       "\t Cat  & 5    & TRUE\\\\\n",
       "\\end{tabular}\n"
      ],
      "text/markdown": [
       "\n",
       "Name | HowMany | IsPet | \n",
       "|---|\n",
       "| Cat  | 5    | TRUE | \n",
       "\n",
       "\n"
      ],
      "text/plain": [
       "  Name HowMany IsPet\n",
       "1 Cat  5       TRUE "
      ]
     },
     "metadata": {},
     "output_type": "display_data"
    }
   ],
   "source": [
    "# Indexing dataframe by row\n",
    "df[1,]"
   ]
  },
  {
   "cell_type": "code",
   "execution_count": 19,
   "metadata": {},
   "outputs": [
    {
     "data": {
      "text/html": [
       "<ol class=list-inline>\n",
       "\t<li>5</li>\n",
       "\t<li>10</li>\n",
       "\t<li>15</li>\n",
       "\t<li>20</li>\n",
       "</ol>\n"
      ],
      "text/latex": [
       "\\begin{enumerate*}\n",
       "\\item 5\n",
       "\\item 10\n",
       "\\item 15\n",
       "\\item 20\n",
       "\\end{enumerate*}\n"
      ],
      "text/markdown": [
       "1. 5\n",
       "2. 10\n",
       "3. 15\n",
       "4. 20\n",
       "\n",
       "\n"
      ],
      "text/plain": [
       "[1]  5 10 15 20"
      ]
     },
     "metadata": {},
     "output_type": "display_data"
    }
   ],
   "source": [
    "# Indexing dataframe by column\n",
    "df[,2]"
   ]
  },
  {
   "cell_type": "code",
   "execution_count": 20,
   "metadata": {},
   "outputs": [
    {
     "data": {
      "text/html": [
       "<ol class=list-inline>\n",
       "\t<li>5</li>\n",
       "\t<li>10</li>\n",
       "\t<li>15</li>\n",
       "\t<li>20</li>\n",
       "</ol>\n"
      ],
      "text/latex": [
       "\\begin{enumerate*}\n",
       "\\item 5\n",
       "\\item 10\n",
       "\\item 15\n",
       "\\item 20\n",
       "\\end{enumerate*}\n"
      ],
      "text/markdown": [
       "1. 5\n",
       "2. 10\n",
       "3. 15\n",
       "4. 20\n",
       "\n",
       "\n"
      ],
      "text/plain": [
       "[1]  5 10 15 20"
      ]
     },
     "metadata": {},
     "output_type": "display_data"
    }
   ],
   "source": [
    "df[['HowMany']]"
   ]
  },
  {
   "cell_type": "code",
   "execution_count": 21,
   "metadata": {},
   "outputs": [
    {
     "data": {
      "text/html": [
       "<ol class=list-inline>\n",
       "\t<li>5</li>\n",
       "\t<li>10</li>\n",
       "\t<li>15</li>\n",
       "\t<li>20</li>\n",
       "</ol>\n"
      ],
      "text/latex": [
       "\\begin{enumerate*}\n",
       "\\item 5\n",
       "\\item 10\n",
       "\\item 15\n",
       "\\item 20\n",
       "\\end{enumerate*}\n"
      ],
      "text/markdown": [
       "1. 5\n",
       "2. 10\n",
       "3. 15\n",
       "4. 20\n",
       "\n",
       "\n"
      ],
      "text/plain": [
       "[1]  5 10 15 20"
      ]
     },
     "metadata": {},
     "output_type": "display_data"
    }
   ],
   "source": [
    "df$HowMany  #this method is generally preferred"
   ]
  },
  {
   "cell_type": "code",
   "execution_count": 22,
   "metadata": {},
   "outputs": [
    {
     "data": {
      "text/html": [
       "<table>\n",
       "<thead><tr><th></th><th scope=col>Name</th><th scope=col>HowMany</th><th scope=col>IsPet</th></tr></thead>\n",
       "<tbody>\n",
       "\t<tr><th scope=row>2</th><td>Dog  </td><td>10   </td><td> TRUE</td></tr>\n",
       "\t<tr><th scope=row>4</th><td>Bear </td><td>20   </td><td>FALSE</td></tr>\n",
       "</tbody>\n",
       "</table>\n"
      ],
      "text/latex": [
       "\\begin{tabular}{r|lll}\n",
       "  & Name & HowMany & IsPet\\\\\n",
       "\\hline\n",
       "\t2 & Dog   & 10    &  TRUE\\\\\n",
       "\t4 & Bear  & 20    & FALSE\\\\\n",
       "\\end{tabular}\n"
      ],
      "text/markdown": [
       "\n",
       "| <!--/--> | Name | HowMany | IsPet | \n",
       "|---|---|\n",
       "| 2 | Dog   | 10    |  TRUE | \n",
       "| 4 | Bear  | 20    | FALSE | \n",
       "\n",
       "\n"
      ],
      "text/plain": [
       "  Name HowMany IsPet\n",
       "2 Dog  10       TRUE\n",
       "4 Bear 20      FALSE"
      ]
     },
     "metadata": {},
     "output_type": "display_data"
    }
   ],
   "source": [
    "# Subsetting dataframes\n",
    "df[c(2,4),]"
   ]
  },
  {
   "cell_type": "code",
   "execution_count": 23,
   "metadata": {},
   "outputs": [
    {
     "data": {
      "text/html": [
       "<table>\n",
       "<thead><tr><th></th><th scope=col>Name</th><th scope=col>HowMany</th><th scope=col>IsPet</th></tr></thead>\n",
       "<tbody>\n",
       "\t<tr><th scope=row>2</th><td>Dog  </td><td>10   </td><td> TRUE</td></tr>\n",
       "\t<tr><th scope=row>3</th><td>Cow  </td><td>15   </td><td> TRUE</td></tr>\n",
       "\t<tr><th scope=row>4</th><td>Bear </td><td>20   </td><td>FALSE</td></tr>\n",
       "</tbody>\n",
       "</table>\n"
      ],
      "text/latex": [
       "\\begin{tabular}{r|lll}\n",
       "  & Name & HowMany & IsPet\\\\\n",
       "\\hline\n",
       "\t2 & Dog   & 10    &  TRUE\\\\\n",
       "\t3 & Cow   & 15    &  TRUE\\\\\n",
       "\t4 & Bear  & 20    & FALSE\\\\\n",
       "\\end{tabular}\n"
      ],
      "text/markdown": [
       "\n",
       "| <!--/--> | Name | HowMany | IsPet | \n",
       "|---|---|---|\n",
       "| 2 | Dog   | 10    |  TRUE | \n",
       "| 3 | Cow   | 15    |  TRUE | \n",
       "| 4 | Bear  | 20    | FALSE | \n",
       "\n",
       "\n"
      ],
      "text/plain": [
       "  Name HowMany IsPet\n",
       "2 Dog  10       TRUE\n",
       "3 Cow  15       TRUE\n",
       "4 Bear 20      FALSE"
      ]
     },
     "metadata": {},
     "output_type": "display_data"
    }
   ],
   "source": [
    "df[2:4,]"
   ]
  },
  {
   "cell_type": "code",
   "execution_count": 24,
   "metadata": {},
   "outputs": [
    {
     "data": {
      "text/html": [
       "<table>\n",
       "<thead><tr><th></th><th scope=col>Name</th><th scope=col>HowMany</th><th scope=col>IsPet</th></tr></thead>\n",
       "<tbody>\n",
       "\t<tr><th scope=row>1</th><td>Cat  </td><td> 5   </td><td> TRUE</td></tr>\n",
       "\t<tr><th scope=row>4</th><td>Bear </td><td>20   </td><td>FALSE</td></tr>\n",
       "</tbody>\n",
       "</table>\n"
      ],
      "text/latex": [
       "\\begin{tabular}{r|lll}\n",
       "  & Name & HowMany & IsPet\\\\\n",
       "\\hline\n",
       "\t1 & Cat   &  5    &  TRUE\\\\\n",
       "\t4 & Bear  & 20    & FALSE\\\\\n",
       "\\end{tabular}\n"
      ],
      "text/markdown": [
       "\n",
       "| <!--/--> | Name | HowMany | IsPet | \n",
       "|---|---|\n",
       "| 1 | Cat   |  5    |  TRUE | \n",
       "| 4 | Bear  | 20    | FALSE | \n",
       "\n",
       "\n"
      ],
      "text/plain": [
       "  Name HowMany IsPet\n",
       "1 Cat   5       TRUE\n",
       "4 Bear 20      FALSE"
      ]
     },
     "metadata": {},
     "output_type": "display_data"
    }
   ],
   "source": [
    "df[c(TRUE, FALSE, FALSE, TRUE),]"
   ]
  },
  {
   "cell_type": "code",
   "execution_count": 25,
   "metadata": {},
   "outputs": [
    {
     "data": {
      "text/html": [
       "<table>\n",
       "<thead><tr><th scope=col>Name</th><th scope=col>HowMany</th><th scope=col>IsPet</th></tr></thead>\n",
       "<tbody>\n",
       "\t<tr><td>Cat </td><td> 5  </td><td>TRUE</td></tr>\n",
       "\t<tr><td>Dog </td><td>10  </td><td>TRUE</td></tr>\n",
       "\t<tr><td>Cow </td><td>15  </td><td>TRUE</td></tr>\n",
       "</tbody>\n",
       "</table>\n"
      ],
      "text/latex": [
       "\\begin{tabular}{r|lll}\n",
       " Name & HowMany & IsPet\\\\\n",
       "\\hline\n",
       "\t Cat  &  5   & TRUE\\\\\n",
       "\t Dog  & 10   & TRUE\\\\\n",
       "\t Cow  & 15   & TRUE\\\\\n",
       "\\end{tabular}\n"
      ],
      "text/markdown": [
       "\n",
       "Name | HowMany | IsPet | \n",
       "|---|---|---|\n",
       "| Cat  |  5   | TRUE | \n",
       "| Dog  | 10   | TRUE | \n",
       "| Cow  | 15   | TRUE | \n",
       "\n",
       "\n"
      ],
      "text/plain": [
       "  Name HowMany IsPet\n",
       "1 Cat   5      TRUE \n",
       "2 Dog  10      TRUE \n",
       "3 Cow  15      TRUE "
      ]
     },
     "metadata": {},
     "output_type": "display_data"
    }
   ],
   "source": [
    "df[df$IsPet == TRUE,]"
   ]
  },
  {
   "cell_type": "code",
   "execution_count": 26,
   "metadata": {},
   "outputs": [
    {
     "data": {
      "text/html": [
       "<table>\n",
       "<thead><tr><th></th><th scope=col>Name</th><th scope=col>HowMany</th><th scope=col>IsPet</th></tr></thead>\n",
       "<tbody>\n",
       "\t<tr><th scope=row>3</th><td>Cow  </td><td>15   </td><td> TRUE</td></tr>\n",
       "\t<tr><th scope=row>4</th><td>Bear </td><td>20   </td><td>FALSE</td></tr>\n",
       "</tbody>\n",
       "</table>\n"
      ],
      "text/latex": [
       "\\begin{tabular}{r|lll}\n",
       "  & Name & HowMany & IsPet\\\\\n",
       "\\hline\n",
       "\t3 & Cow   & 15    &  TRUE\\\\\n",
       "\t4 & Bear  & 20    & FALSE\\\\\n",
       "\\end{tabular}\n"
      ],
      "text/markdown": [
       "\n",
       "| <!--/--> | Name | HowMany | IsPet | \n",
       "|---|---|\n",
       "| 3 | Cow   | 15    |  TRUE | \n",
       "| 4 | Bear  | 20    | FALSE | \n",
       "\n",
       "\n"
      ],
      "text/plain": [
       "  Name HowMany IsPet\n",
       "3 Cow  15       TRUE\n",
       "4 Bear 20      FALSE"
      ]
     },
     "metadata": {},
     "output_type": "display_data"
    }
   ],
   "source": [
    "df[df$HowMany > 10,]"
   ]
  },
  {
   "cell_type": "code",
   "execution_count": 27,
   "metadata": {},
   "outputs": [
    {
     "data": {
      "text/html": [
       "<table>\n",
       "<thead><tr><th></th><th scope=col>Name</th><th scope=col>HowMany</th><th scope=col>IsPet</th></tr></thead>\n",
       "<tbody>\n",
       "\t<tr><th scope=row>1</th><td>Cat </td><td> 5  </td><td>TRUE</td></tr>\n",
       "\t<tr><th scope=row>3</th><td>Cow </td><td>15  </td><td>TRUE</td></tr>\n",
       "</tbody>\n",
       "</table>\n"
      ],
      "text/latex": [
       "\\begin{tabular}{r|lll}\n",
       "  & Name & HowMany & IsPet\\\\\n",
       "\\hline\n",
       "\t1 & Cat  &  5   & TRUE\\\\\n",
       "\t3 & Cow  & 15   & TRUE\\\\\n",
       "\\end{tabular}\n"
      ],
      "text/markdown": [
       "\n",
       "| <!--/--> | Name | HowMany | IsPet | \n",
       "|---|---|\n",
       "| 1 | Cat  |  5   | TRUE | \n",
       "| 3 | Cow  | 15   | TRUE | \n",
       "\n",
       "\n"
      ],
      "text/plain": [
       "  Name HowMany IsPet\n",
       "1 Cat   5      TRUE \n",
       "3 Cow  15      TRUE "
      ]
     },
     "metadata": {},
     "output_type": "display_data"
    }
   ],
   "source": [
    "df[df$Name %in% c(\"Cow\", \"Cat\"),]"
   ]
  },
  {
   "cell_type": "code",
   "execution_count": 28,
   "metadata": {},
   "outputs": [],
   "source": [
    "#Indexing in R is also applied to vectors, matrices, list, arrays in addition to dataframe"
   ]
  },
  {
   "cell_type": "code",
   "execution_count": 29,
   "metadata": {},
   "outputs": [
    {
     "data": {
      "text/html": [
       "3"
      ],
      "text/latex": [
       "3"
      ],
      "text/markdown": [
       "3"
      ],
      "text/plain": [
       "[1] 3"
      ]
     },
     "metadata": {},
     "output_type": "display_data"
    },
    {
     "data": {
      "text/html": [
       "<ol class=list-inline>\n",
       "\t<li>3</li>\n",
       "\t<li>6</li>\n",
       "\t<li>9</li>\n",
       "</ol>\n"
      ],
      "text/latex": [
       "\\begin{enumerate*}\n",
       "\\item 3\n",
       "\\item 6\n",
       "\\item 9\n",
       "\\end{enumerate*}\n"
      ],
      "text/markdown": [
       "1. 3\n",
       "2. 6\n",
       "3. 9\n",
       "\n",
       "\n"
      ],
      "text/plain": [
       "[1] 3 6 9"
      ]
     },
     "metadata": {},
     "output_type": "display_data"
    }
   ],
   "source": [
    "# R is a vectorized language\n",
    "1 + 2\n",
    "c(1,2,3) + c(2,4,6)"
   ]
  },
  {
   "cell_type": "code",
   "execution_count": 30,
   "metadata": {
    "scrolled": true
   },
   "outputs": [
    {
     "data": {
      "text/html": [
       "<table>\n",
       "<tbody>\n",
       "\t<tr><td>TRUE</td><td>TRUE</td><td>TRUE</td></tr>\n",
       "\t<tr><td>TRUE</td><td>TRUE</td><td>TRUE</td></tr>\n",
       "</tbody>\n",
       "</table>\n"
      ],
      "text/latex": [
       "\\begin{tabular}{lll}\n",
       "\t TRUE & TRUE & TRUE\\\\\n",
       "\t TRUE & TRUE & TRUE\\\\\n",
       "\\end{tabular}\n"
      ],
      "text/markdown": [
       "\n",
       "| TRUE | TRUE | TRUE | \n",
       "| TRUE | TRUE | TRUE | \n",
       "\n",
       "\n"
      ],
      "text/plain": [
       "     [,1] [,2] [,3]\n",
       "[1,] TRUE TRUE TRUE\n",
       "[2,] TRUE TRUE TRUE"
      ]
     },
     "metadata": {},
     "output_type": "display_data"
    },
    {
     "data": {
      "text/html": [
       "TRUE"
      ],
      "text/latex": [
       "TRUE"
      ],
      "text/markdown": [
       "TRUE"
      ],
      "text/plain": [
       "[1] TRUE"
      ]
     },
     "metadata": {},
     "output_type": "display_data"
    }
   ],
   "source": [
    "# Named vs Ordered Arguments\n",
    "m <- matrix(data = 1:6, nrow=2, ncol=3) #matrix of 2*3\n",
    "n <- matrix(1:6, 2, 3) #matrix of 2*3\n",
    "m == n #it will return a matrix of true and false\n",
    "identical(m,n) #two check if two matrices are identical"
   ]
  },
  {
   "cell_type": "code",
   "execution_count": 31,
   "metadata": {},
   "outputs": [],
   "source": [
    "# Installing Packages\n",
    "install.packages(\"dplyr\")"
   ]
  },
  {
   "cell_type": "code",
   "execution_count": 32,
   "metadata": {
    "scrolled": true
   },
   "outputs": [
    {
     "name": "stderr",
     "output_type": "stream",
     "text": [
      "\n",
      "Attaching package: ‘dplyr’\n",
      "\n",
      "The following objects are masked from ‘package:stats’:\n",
      "\n",
      "    filter, lag\n",
      "\n",
      "The following objects are masked from ‘package:base’:\n",
      "\n",
      "    intersect, setdiff, setequal, union\n",
      "\n"
     ]
    }
   ],
   "source": [
    "# Loading packages\n",
    "library(\"dplyr\")"
   ]
  },
  {
   "cell_type": "code",
   "execution_count": 33,
   "metadata": {},
   "outputs": [],
   "source": [
    "# Viewing Help\n",
    "?data.frame"
   ]
  }
 ],
 "metadata": {
  "kernelspec": {
   "display_name": "R",
   "language": "R",
   "name": "ir"
  },
  "language_info": {
   "codemirror_mode": "r",
   "file_extension": ".r",
   "mimetype": "text/x-r-source",
   "name": "R",
   "pygments_lexer": "r",
   "version": "3.4.4"
  }
 },
 "nbformat": 4,
 "nbformat_minor": 2
}
