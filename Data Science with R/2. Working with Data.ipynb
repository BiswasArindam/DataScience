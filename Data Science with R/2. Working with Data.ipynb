{
 "cells": [
  {
   "cell_type": "markdown",
   "metadata": {},
   "source": [
    "## Working with Data"
   ]
  },
  {
   "cell_type": "code",
   "execution_count": 1,
   "metadata": {},
   "outputs": [],
   "source": [
    "# Set the working directory\n",
    "setwd(\"C:/DataScience\")"
   ]
  },
  {
   "cell_type": "code",
   "execution_count": 2,
   "metadata": {},
   "outputs": [],
   "source": [
    "# Read a tab-delimited data file\n",
    "cars <- read.table(\n",
    "file=\"Cars.txt\",\n",
    "header=TRUE,\n",
    "sep=\"\\t\",\n",
    "quote=\"\\\"\")"
   ]
  },
  {
   "cell_type": "code",
   "execution_count": 3,
   "metadata": {},
   "outputs": [
    {
     "data": {
      "text/html": [
       "<table>\n",
       "<thead><tr><th scope=col>Name</th><th scope=col>Transmission</th><th scope=col>Cylinders</th><th scope=col>Fuel.Economy</th></tr></thead>\n",
       "<tbody>\n",
       "\t<tr><td>Mazda RX4     </td><td>Manual        </td><td>6             </td><td>21.0          </td></tr>\n",
       "\t<tr><td>Mazda RX4 Wag </td><td>Manual        </td><td>6             </td><td>21.0          </td></tr>\n",
       "\t<tr><td>Datsun 710    </td><td>Manual        </td><td>4             </td><td>22.8          </td></tr>\n",
       "\t<tr><td>Hornet 4 Drive</td><td>Automatic     </td><td>6             </td><td>21.4          </td></tr>\n",
       "\t<tr><td>Hornet Sport  </td><td>Automatic     </td><td>8             </td><td>18.7          </td></tr>\n",
       "\t<tr><td>Valiant       </td><td>Automatic     </td><td>6             </td><td>18.1          </td></tr>\n",
       "</tbody>\n",
       "</table>\n"
      ],
      "text/latex": [
       "\\begin{tabular}{r|llll}\n",
       " Name & Transmission & Cylinders & Fuel.Economy\\\\\n",
       "\\hline\n",
       "\t Mazda RX4      & Manual         & 6              & 21.0          \\\\\n",
       "\t Mazda RX4 Wag  & Manual         & 6              & 21.0          \\\\\n",
       "\t Datsun 710     & Manual         & 4              & 22.8          \\\\\n",
       "\t Hornet 4 Drive & Automatic      & 6              & 21.4          \\\\\n",
       "\t Hornet Sport   & Automatic      & 8              & 18.7          \\\\\n",
       "\t Valiant        & Automatic      & 6              & 18.1          \\\\\n",
       "\\end{tabular}\n"
      ],
      "text/markdown": [
       "\n",
       "Name | Transmission | Cylinders | Fuel.Economy | \n",
       "|---|---|---|---|---|---|\n",
       "| Mazda RX4      | Manual         | 6              | 21.0           | \n",
       "| Mazda RX4 Wag  | Manual         | 6              | 21.0           | \n",
       "| Datsun 710     | Manual         | 4              | 22.8           | \n",
       "| Hornet 4 Drive | Automatic      | 6              | 21.4           | \n",
       "| Hornet Sport   | Automatic      | 8              | 18.7           | \n",
       "| Valiant        | Automatic      | 6              | 18.1           | \n",
       "\n",
       "\n"
      ],
      "text/plain": [
       "  Name           Transmission Cylinders Fuel.Economy\n",
       "1 Mazda RX4      Manual       6         21.0        \n",
       "2 Mazda RX4 Wag  Manual       6         21.0        \n",
       "3 Datsun 710     Manual       4         22.8        \n",
       "4 Hornet 4 Drive Automatic    6         21.4        \n",
       "5 Hornet Sport   Automatic    8         18.7        \n",
       "6 Valiant        Automatic    6         18.1        "
      ]
     },
     "metadata": {},
     "output_type": "display_data"
    }
   ],
   "source": [
    "# Peek at the data\n",
    "head(cars)"
   ]
  },
  {
   "cell_type": "code",
   "execution_count": 4,
   "metadata": {},
   "outputs": [
    {
     "name": "stderr",
     "output_type": "stream",
     "text": [
      "\n",
      "Attaching package: ‘dplyr’\n",
      "\n",
      "The following objects are masked from ‘package:stats’:\n",
      "\n",
      "    filter, lag\n",
      "\n",
      "The following objects are masked from ‘package:base’:\n",
      "\n",
      "    intersect, setdiff, setequal, union\n",
      "\n"
     ]
    }
   ],
   "source": [
    "# Load the dplyr library\n",
    "library(dplyr)"
   ]
  },
  {
   "cell_type": "code",
   "execution_count": 5,
   "metadata": {},
   "outputs": [],
   "source": [
    "# Select a subset of columns\n",
    "temp <- select(.data=cars, Transmission, Cylinders, Fuel.Economy)"
   ]
  },
  {
   "cell_type": "code",
   "execution_count": 6,
   "metadata": {},
   "outputs": [
    {
     "data": {
      "text/html": [
       "<table>\n",
       "<thead><tr><th scope=col>Transmission</th><th scope=col>Cylinders</th><th scope=col>Fuel.Economy</th></tr></thead>\n",
       "<tbody>\n",
       "\t<tr><td>Manual   </td><td>6        </td><td>21.0     </td></tr>\n",
       "\t<tr><td>Manual   </td><td>6        </td><td>21.0     </td></tr>\n",
       "\t<tr><td>Manual   </td><td>4        </td><td>22.8     </td></tr>\n",
       "\t<tr><td>Automatic</td><td>6        </td><td>21.4     </td></tr>\n",
       "\t<tr><td>Automatic</td><td>8        </td><td>18.7     </td></tr>\n",
       "\t<tr><td>Automatic</td><td>6        </td><td>18.1     </td></tr>\n",
       "</tbody>\n",
       "</table>\n"
      ],
      "text/latex": [
       "\\begin{tabular}{r|lll}\n",
       " Transmission & Cylinders & Fuel.Economy\\\\\n",
       "\\hline\n",
       "\t Manual    & 6         & 21.0     \\\\\n",
       "\t Manual    & 6         & 21.0     \\\\\n",
       "\t Manual    & 4         & 22.8     \\\\\n",
       "\t Automatic & 6         & 21.4     \\\\\n",
       "\t Automatic & 8         & 18.7     \\\\\n",
       "\t Automatic & 6         & 18.1     \\\\\n",
       "\\end{tabular}\n"
      ],
      "text/markdown": [
       "\n",
       "Transmission | Cylinders | Fuel.Economy | \n",
       "|---|---|---|---|---|---|\n",
       "| Manual    | 6         | 21.0      | \n",
       "| Manual    | 6         | 21.0      | \n",
       "| Manual    | 4         | 22.8      | \n",
       "| Automatic | 6         | 21.4      | \n",
       "| Automatic | 8         | 18.7      | \n",
       "| Automatic | 6         | 18.1      | \n",
       "\n",
       "\n"
      ],
      "text/plain": [
       "  Transmission Cylinders Fuel.Economy\n",
       "1 Manual       6         21.0        \n",
       "2 Manual       6         21.0        \n",
       "3 Manual       4         22.8        \n",
       "4 Automatic    6         21.4        \n",
       "5 Automatic    8         18.7        \n",
       "6 Automatic    6         18.1        "
      ]
     },
     "metadata": {},
     "output_type": "display_data"
    }
   ],
   "source": [
    "# Inspect the results\n",
    "head(temp)"
   ]
  },
  {
   "cell_type": "code",
   "execution_count": 7,
   "metadata": {},
   "outputs": [],
   "source": [
    "# Filter a subset of rows\n",
    "temp <- filter(.data=temp, Transmission==\"Automatic\")"
   ]
  },
  {
   "cell_type": "code",
   "execution_count": 8,
   "metadata": {},
   "outputs": [
    {
     "data": {
      "text/html": [
       "<table>\n",
       "<thead><tr><th scope=col>Transmission</th><th scope=col>Cylinders</th><th scope=col>Fuel.Economy</th></tr></thead>\n",
       "<tbody>\n",
       "\t<tr><td>Automatic</td><td>6        </td><td>21.4     </td></tr>\n",
       "\t<tr><td>Automatic</td><td>8        </td><td>18.7     </td></tr>\n",
       "\t<tr><td>Automatic</td><td>6        </td><td>18.1     </td></tr>\n",
       "\t<tr><td>Automatic</td><td>8        </td><td>14.3     </td></tr>\n",
       "\t<tr><td>Automatic</td><td>4        </td><td>24.4     </td></tr>\n",
       "\t<tr><td>Automatic</td><td>4        </td><td>22.8     </td></tr>\n",
       "</tbody>\n",
       "</table>\n"
      ],
      "text/latex": [
       "\\begin{tabular}{r|lll}\n",
       " Transmission & Cylinders & Fuel.Economy\\\\\n",
       "\\hline\n",
       "\t Automatic & 6         & 21.4     \\\\\n",
       "\t Automatic & 8         & 18.7     \\\\\n",
       "\t Automatic & 6         & 18.1     \\\\\n",
       "\t Automatic & 8         & 14.3     \\\\\n",
       "\t Automatic & 4         & 24.4     \\\\\n",
       "\t Automatic & 4         & 22.8     \\\\\n",
       "\\end{tabular}\n"
      ],
      "text/markdown": [
       "\n",
       "Transmission | Cylinders | Fuel.Economy | \n",
       "|---|---|---|---|---|---|\n",
       "| Automatic | 6         | 21.4      | \n",
       "| Automatic | 8         | 18.7      | \n",
       "| Automatic | 6         | 18.1      | \n",
       "| Automatic | 8         | 14.3      | \n",
       "| Automatic | 4         | 24.4      | \n",
       "| Automatic | 4         | 22.8      | \n",
       "\n",
       "\n"
      ],
      "text/plain": [
       "  Transmission Cylinders Fuel.Economy\n",
       "1 Automatic    6         21.4        \n",
       "2 Automatic    8         18.7        \n",
       "3 Automatic    6         18.1        \n",
       "4 Automatic    8         14.3        \n",
       "5 Automatic    4         24.4        \n",
       "6 Automatic    4         22.8        "
      ]
     },
     "metadata": {},
     "output_type": "display_data"
    }
   ],
   "source": [
    "# Inspect the results\n",
    "head(temp)"
   ]
  },
  {
   "cell_type": "code",
   "execution_count": 9,
   "metadata": {},
   "outputs": [],
   "source": [
    "# Compute a new column\n",
    "temp <- mutate(.data=temp, Consumption=Fuel.Economy*0.425) # 0.425 is conversion paramter for miles/galon to km/litre"
   ]
  },
  {
   "cell_type": "code",
   "execution_count": 10,
   "metadata": {},
   "outputs": [
    {
     "data": {
      "text/html": [
       "<table>\n",
       "<thead><tr><th scope=col>Transmission</th><th scope=col>Cylinders</th><th scope=col>Fuel.Economy</th><th scope=col>Consumption</th></tr></thead>\n",
       "<tbody>\n",
       "\t<tr><td>Automatic</td><td>6        </td><td>21.4     </td><td> 9.0950  </td></tr>\n",
       "\t<tr><td>Automatic</td><td>8        </td><td>18.7     </td><td> 7.9475  </td></tr>\n",
       "\t<tr><td>Automatic</td><td>6        </td><td>18.1     </td><td> 7.6925  </td></tr>\n",
       "\t<tr><td>Automatic</td><td>8        </td><td>14.3     </td><td> 6.0775  </td></tr>\n",
       "\t<tr><td>Automatic</td><td>4        </td><td>24.4     </td><td>10.3700  </td></tr>\n",
       "\t<tr><td>Automatic</td><td>4        </td><td>22.8     </td><td> 9.6900  </td></tr>\n",
       "</tbody>\n",
       "</table>\n"
      ],
      "text/latex": [
       "\\begin{tabular}{r|llll}\n",
       " Transmission & Cylinders & Fuel.Economy & Consumption\\\\\n",
       "\\hline\n",
       "\t Automatic & 6         & 21.4      &  9.0950  \\\\\n",
       "\t Automatic & 8         & 18.7      &  7.9475  \\\\\n",
       "\t Automatic & 6         & 18.1      &  7.6925  \\\\\n",
       "\t Automatic & 8         & 14.3      &  6.0775  \\\\\n",
       "\t Automatic & 4         & 24.4      & 10.3700  \\\\\n",
       "\t Automatic & 4         & 22.8      &  9.6900  \\\\\n",
       "\\end{tabular}\n"
      ],
      "text/markdown": [
       "\n",
       "Transmission | Cylinders | Fuel.Economy | Consumption | \n",
       "|---|---|---|---|---|---|\n",
       "| Automatic | 6         | 21.4      |  9.0950   | \n",
       "| Automatic | 8         | 18.7      |  7.9475   | \n",
       "| Automatic | 6         | 18.1      |  7.6925   | \n",
       "| Automatic | 8         | 14.3      |  6.0775   | \n",
       "| Automatic | 4         | 24.4      | 10.3700   | \n",
       "| Automatic | 4         | 22.8      |  9.6900   | \n",
       "\n",
       "\n"
      ],
      "text/plain": [
       "  Transmission Cylinders Fuel.Economy Consumption\n",
       "1 Automatic    6         21.4          9.0950    \n",
       "2 Automatic    8         18.7          7.9475    \n",
       "3 Automatic    6         18.1          7.6925    \n",
       "4 Automatic    8         14.3          6.0775    \n",
       "5 Automatic    4         24.4         10.3700    \n",
       "6 Automatic    4         22.8          9.6900    "
      ]
     },
     "metadata": {},
     "output_type": "display_data"
    }
   ],
   "source": [
    "# Inspect the results\n",
    "head(temp)"
   ]
  },
  {
   "cell_type": "code",
   "execution_count": 11,
   "metadata": {},
   "outputs": [],
   "source": [
    "# Group by a column\n",
    "temp <- group_by(.data=temp, Cylinders)"
   ]
  },
  {
   "cell_type": "code",
   "execution_count": 12,
   "metadata": {},
   "outputs": [
    {
     "data": {
      "text/html": [
       "<table>\n",
       "<thead><tr><th scope=col>Transmission</th><th scope=col>Cylinders</th><th scope=col>Fuel.Economy</th><th scope=col>Consumption</th></tr></thead>\n",
       "<tbody>\n",
       "\t<tr><td>Automatic</td><td>6        </td><td>21.4     </td><td> 9.0950  </td></tr>\n",
       "\t<tr><td>Automatic</td><td>8        </td><td>18.7     </td><td> 7.9475  </td></tr>\n",
       "\t<tr><td>Automatic</td><td>6        </td><td>18.1     </td><td> 7.6925  </td></tr>\n",
       "\t<tr><td>Automatic</td><td>8        </td><td>14.3     </td><td> 6.0775  </td></tr>\n",
       "\t<tr><td>Automatic</td><td>4        </td><td>24.4     </td><td>10.3700  </td></tr>\n",
       "\t<tr><td>Automatic</td><td>4        </td><td>22.8     </td><td> 9.6900  </td></tr>\n",
       "</tbody>\n",
       "</table>\n"
      ],
      "text/latex": [
       "\\begin{tabular}{r|llll}\n",
       " Transmission & Cylinders & Fuel.Economy & Consumption\\\\\n",
       "\\hline\n",
       "\t Automatic & 6         & 21.4      &  9.0950  \\\\\n",
       "\t Automatic & 8         & 18.7      &  7.9475  \\\\\n",
       "\t Automatic & 6         & 18.1      &  7.6925  \\\\\n",
       "\t Automatic & 8         & 14.3      &  6.0775  \\\\\n",
       "\t Automatic & 4         & 24.4      & 10.3700  \\\\\n",
       "\t Automatic & 4         & 22.8      &  9.6900  \\\\\n",
       "\\end{tabular}\n"
      ],
      "text/markdown": [
       "\n",
       "Transmission | Cylinders | Fuel.Economy | Consumption | \n",
       "|---|---|---|---|---|---|\n",
       "| Automatic | 6         | 21.4      |  9.0950   | \n",
       "| Automatic | 8         | 18.7      |  7.9475   | \n",
       "| Automatic | 6         | 18.1      |  7.6925   | \n",
       "| Automatic | 8         | 14.3      |  6.0775   | \n",
       "| Automatic | 4         | 24.4      | 10.3700   | \n",
       "| Automatic | 4         | 22.8      |  9.6900   | \n",
       "\n",
       "\n"
      ],
      "text/plain": [
       "  Transmission Cylinders Fuel.Economy Consumption\n",
       "1 Automatic    6         21.4          9.0950    \n",
       "2 Automatic    8         18.7          7.9475    \n",
       "3 Automatic    6         18.1          7.6925    \n",
       "4 Automatic    8         14.3          6.0775    \n",
       "5 Automatic    4         24.4         10.3700    \n",
       "6 Automatic    4         22.8          9.6900    "
      ]
     },
     "metadata": {},
     "output_type": "display_data"
    }
   ],
   "source": [
    "# Inspect the results\n",
    "head(temp)"
   ]
  },
  {
   "cell_type": "code",
   "execution_count": 13,
   "metadata": {},
   "outputs": [],
   "source": [
    "# Aggregate based on groups\n",
    "temp <- summarize(.data=temp, Avg.Consumption=mean(Consumption))"
   ]
  },
  {
   "cell_type": "code",
   "execution_count": 14,
   "metadata": {},
   "outputs": [
    {
     "data": {
      "text/html": [
       "<table>\n",
       "<thead><tr><th scope=col>Cylinders</th><th scope=col>Avg.Consumption</th></tr></thead>\n",
       "<tbody>\n",
       "\t<tr><td>4       </td><td>9.732500</td></tr>\n",
       "\t<tr><td>6       </td><td>8.128125</td></tr>\n",
       "\t<tr><td>8       </td><td>6.396250</td></tr>\n",
       "</tbody>\n",
       "</table>\n"
      ],
      "text/latex": [
       "\\begin{tabular}{r|ll}\n",
       " Cylinders & Avg.Consumption\\\\\n",
       "\\hline\n",
       "\t 4        & 9.732500\\\\\n",
       "\t 6        & 8.128125\\\\\n",
       "\t 8        & 6.396250\\\\\n",
       "\\end{tabular}\n"
      ],
      "text/markdown": [
       "\n",
       "Cylinders | Avg.Consumption | \n",
       "|---|---|---|\n",
       "| 4        | 9.732500 | \n",
       "| 6        | 8.128125 | \n",
       "| 8        | 6.396250 | \n",
       "\n",
       "\n"
      ],
      "text/plain": [
       "  Cylinders Avg.Consumption\n",
       "1 4         9.732500       \n",
       "2 6         8.128125       \n",
       "3 8         6.396250       "
      ]
     },
     "metadata": {},
     "output_type": "display_data"
    }
   ],
   "source": [
    "# Inspect the results\n",
    "head(temp)"
   ]
  },
  {
   "cell_type": "code",
   "execution_count": 15,
   "metadata": {},
   "outputs": [],
   "source": [
    "# Arrange the rows in descending order\n",
    "temp <- arrange(.data=temp, desc(Avg.Consumption))"
   ]
  },
  {
   "cell_type": "code",
   "execution_count": 16,
   "metadata": {},
   "outputs": [
    {
     "data": {
      "text/html": [
       "<table>\n",
       "<thead><tr><th scope=col>Cylinders</th><th scope=col>Avg.Consumption</th></tr></thead>\n",
       "<tbody>\n",
       "\t<tr><td>4       </td><td>9.732500</td></tr>\n",
       "\t<tr><td>6       </td><td>8.128125</td></tr>\n",
       "\t<tr><td>8       </td><td>6.396250</td></tr>\n",
       "</tbody>\n",
       "</table>\n"
      ],
      "text/latex": [
       "\\begin{tabular}{r|ll}\n",
       " Cylinders & Avg.Consumption\\\\\n",
       "\\hline\n",
       "\t 4        & 9.732500\\\\\n",
       "\t 6        & 8.128125\\\\\n",
       "\t 8        & 6.396250\\\\\n",
       "\\end{tabular}\n"
      ],
      "text/markdown": [
       "\n",
       "Cylinders | Avg.Consumption | \n",
       "|---|---|---|\n",
       "| 4        | 9.732500 | \n",
       "| 6        | 8.128125 | \n",
       "| 8        | 6.396250 | \n",
       "\n",
       "\n"
      ],
      "text/plain": [
       "  Cylinders Avg.Consumption\n",
       "1 4         9.732500       \n",
       "2 6         8.128125       \n",
       "3 8         6.396250       "
      ]
     },
     "metadata": {},
     "output_type": "display_data"
    }
   ],
   "source": [
    "# Inspect the results\n",
    "head(temp)"
   ]
  },
  {
   "cell_type": "code",
   "execution_count": 17,
   "metadata": {},
   "outputs": [],
   "source": [
    "# Convert to dataframe\n",
    "efficiency <- as.data.frame(temp)"
   ]
  },
  {
   "cell_type": "code",
   "execution_count": 18,
   "metadata": {},
   "outputs": [
    {
     "name": "stdout",
     "output_type": "stream",
     "text": [
      "  Cylinders Avg.Consumption\n",
      "1         4        9.732500\n",
      "2         6        8.128125\n",
      "3         8        6.396250\n"
     ]
    }
   ],
   "source": [
    "# Inspect the results\n",
    "print(efficiency)"
   ]
  },
  {
   "cell_type": "code",
   "execution_count": 19,
   "metadata": {},
   "outputs": [],
   "source": [
    "# Chain methods together\n",
    "efficiency <- cars %>% \n",
    "select(Fuel.Economy, Cylinders, Transmission) %>% \n",
    "filter(Transmission==\"Automatic\") %>% \n",
    "mutate(Consumption=Fuel.Economy*0.425) %>%\n",
    "group_by(Cylinders) %>% \n",
    "summarize(Avg.Consumption=mean(Consumption)) %>%\n",
    "arrange(desc(Avg.Consumption)) %>%\n",
    "as.data.frame() # %>% works as pipelining "
   ]
  },
  {
   "cell_type": "code",
   "execution_count": 20,
   "metadata": {},
   "outputs": [
    {
     "name": "stdout",
     "output_type": "stream",
     "text": [
      "  Cylinders Avg.Consumption\n",
      "1         4        9.732500\n",
      "2         6        8.128125\n",
      "3         8        6.396250\n"
     ]
    }
   ],
   "source": [
    "# Inspect the results\n",
    "print(efficiency)"
   ]
  },
  {
   "cell_type": "code",
   "execution_count": 21,
   "metadata": {},
   "outputs": [],
   "source": [
    "# Save the reults to a csv file\n",
    "write.csv(x=efficiency, file=\"Fuel_Efficiency.csv\", row.names=FALSE)"
   ]
  }
 ],
 "metadata": {
  "kernelspec": {
   "display_name": "R",
   "language": "R",
   "name": "ir"
  },
  "language_info": {
   "codemirror_mode": "r",
   "file_extension": ".r",
   "mimetype": "text/x-r-source",
   "name": "R",
   "pygments_lexer": "r",
   "version": "3.4.4"
  }
 },
 "nbformat": 4,
 "nbformat_minor": 2
}
