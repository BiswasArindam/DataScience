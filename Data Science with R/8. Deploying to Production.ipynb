{
 "cells": [
  {
   "cell_type": "markdown",
   "metadata": {},
   "source": [
    "## Deploying to Production"
   ]
  },
  {
   "cell_type": "code",
   "execution_count": 1,
   "metadata": {},
   "outputs": [],
   "source": [
    "# Load shiny\n",
    "library(shiny)"
   ]
  },
  {
   "cell_type": "code",
   "execution_count": 2,
   "metadata": {},
   "outputs": [],
   "source": [
    "# Create a UI\n",
    "ui <- fluidPage(\"Hello World!\")"
   ]
  },
  {
   "cell_type": "code",
   "execution_count": 3,
   "metadata": {},
   "outputs": [],
   "source": [
    "# Create a server\n",
    "server <- function(input,output) {}"
   ]
  },
  {
   "cell_type": "code",
   "execution_count": 4,
   "metadata": {},
   "outputs": [],
   "source": [
    "# Create a shiny app\n",
    "shinyApp(ui=ui, server=server) #this will pop a new window and display the output \"Hello World!\""
   ]
  },
  {
   "cell_type": "code",
   "execution_count": 5,
   "metadata": {},
   "outputs": [],
   "source": [
    "# Create a UI with I/O controls\n",
    "ui <- fluidPage(titlePanel(\"Input and Output\"), sidebarLayout(sidebarPanel(sliderInput(inputId = \"num\", label = \"Choose a Number\", min = 0, max = 100, value = 25)), mainPanel(textOutput(outputId = \"text\"))))"
   ]
  },
  {
   "cell_type": "code",
   "execution_count": 6,
   "metadata": {},
   "outputs": [],
   "source": [
    "# Create a server than maps input to output\n",
    "server <- function(input, output) {\n",
    "    output$text <- renderText({\n",
    "        paste(\"You selected \", input$num )})\n",
    "}"
   ]
  },
  {
   "cell_type": "code",
   "execution_count": 7,
   "metadata": {},
   "outputs": [],
   "source": [
    "# Create a shiny app\n",
    "shinyApp(ui = ui, server = server)"
   ]
  },
  {
   "cell_type": "code",
   "execution_count": 8,
   "metadata": {},
   "outputs": [],
   "source": [
    "# Load decision tree package\n",
    "#install.packages(\"tree\")\n",
    "library(tree)"
   ]
  },
  {
   "cell_type": "code",
   "execution_count": 9,
   "metadata": {},
   "outputs": [],
   "source": [
    "# Set working directory\n",
    "setwd(\"C://DataScience\")"
   ]
  },
  {
   "cell_type": "code",
   "execution_count": 10,
   "metadata": {},
   "outputs": [],
   "source": [
    "# Load training data\n",
    "load(\"Train.RData\")"
   ]
  },
  {
   "cell_type": "code",
   "execution_count": 11,
   "metadata": {},
   "outputs": [],
   "source": [
    "# Load tree model\n",
    "load(\"Tree.RData\")"
   ]
  },
  {
   "cell_type": "code",
   "execution_count": 12,
   "metadata": {},
   "outputs": [],
   "source": [
    "# Load color brewer library\n",
    "library(RColorBrewer)"
   ]
  },
  {
   "cell_type": "code",
   "execution_count": 13,
   "metadata": {},
   "outputs": [],
   "source": [
    "# Create a color palette\n",
    "palette <- brewer.pal(3, \"Set2\")"
   ]
  },
  {
   "cell_type": "code",
   "execution_count": 14,
   "metadata": {},
   "outputs": [],
   "source": [
    "# Create user interface code\n",
    "ui <- fluidPage(\n",
    "    titlePanel(\"Iris Species Predictor\"),\n",
    "    sidebarLayout(\n",
    "        sidebarPanel(\n",
    "            sliderInput(\n",
    "                inputId = \"petal.length\",\n",
    "                label = \"Petal Length (cm)\",\n",
    "                min = 1,\n",
    "                max = 7,\n",
    "                value = 4),\n",
    "            sliderInput(\n",
    "                inputId = \"petal.width\",\n",
    "                label = \"Petal Width (cm)\",\n",
    "                min = 0.0,\n",
    "                max = 2.5,\n",
    "                step = 0.5,\n",
    "                value = 1.5)),\n",
    "        mainPanel(\n",
    "            textOutput(\n",
    "                outputId = \"text\"),\n",
    "            plotOutput(\n",
    "                outputId = \"plot\"))))"
   ]
  },
  {
   "cell_type": "code",
   "execution_count": 15,
   "metadata": {},
   "outputs": [],
   "source": [
    "# Create server code\n",
    "server <- function(input, output) {\n",
    "    output$text = renderText({\n",
    "        \n",
    "        # Create predictors\n",
    "        predictors <- data.frame(Petal.Length = input$petal.length, Petal.Width = input$petal.width, Sepal.Length = 0, Sepal.Width = 0)\n",
    "        \n",
    "        # Make prediction\n",
    "        prediction = predict(object = model, newdata = predictors, type = \"class\")\n",
    "        \n",
    "        # Create prediction text\n",
    "        paste(\"The predicted species is \", as.character(prediction))\n",
    "    })\n",
    "    \n",
    "    output$plot = renderPlot({\n",
    "        \n",
    "        # Create a scatterplot colored by species\n",
    "        plot(x = iris$Petal.Length, y = iris$Petal.Width, pch = 19, col = palette[as.numeric(iris$Species)], main = \"Iris Petal Length vs. Width\", xlab = \"Petal Length (cm)\", ylab = \"Petal Width (cm)\")\n",
    "        \n",
    "        # Plot the decision boundaries\n",
    "        partition.tree(model, label = \"Species\", add = TRUE)\n",
    "        \n",
    "        # Draw predictor on plot\n",
    "        points(x = input$petal.length, y = input$petal.width, col = \"red\", pch = 4, cex = 2, lwd = 2)\n",
    "    })\n",
    "}"
   ]
  },
  {
   "cell_type": "code",
   "execution_count": 16,
   "metadata": {},
   "outputs": [],
   "source": [
    "# Create a shiny app\n",
    "shinyApp(ui = ui, server = server)"
   ]
  }
 ],
 "metadata": {
  "kernelspec": {
   "display_name": "R",
   "language": "R",
   "name": "ir"
  },
  "language_info": {
   "codemirror_mode": "r",
   "file_extension": ".r",
   "mimetype": "text/x-r-source",
   "name": "R",
   "pygments_lexer": "r",
   "version": "3.4.3"
  }
 },
 "nbformat": 4,
 "nbformat_minor": 2
}
