{
 "cells": [
  {
   "cell_type": "markdown",
   "metadata": {},
   "source": [
    "## Creating Descriptive Statistics"
   ]
  },
  {
   "cell_type": "markdown",
   "metadata": {},
   "source": [
    "### Statistical Terms\n",
    "\n",
    "#### Observations\n",
    "Rows in the table\n",
    "\n",
    "#### Variables\n",
    "Columns in the table\n",
    "It can be sub-divided into two types:\n",
    "1. Categorical Variable eg.(Male, Female)- It contains qualitative values (Frequency of Observations/Frequency Table)\n",
    "2. Numeric Variable (or Quantitative Values)- Mean, Median, Max, Min\n",
    " "
   ]
  },
  {
   "cell_type": "code",
   "execution_count": 1,
   "metadata": {},
   "outputs": [],
   "source": [
    "# Set the working directory\n",
    "setwd(\"C:/DataScience\")"
   ]
  },
  {
   "cell_type": "code",
   "execution_count": 2,
   "metadata": {},
   "outputs": [],
   "source": [
    "# Read a tab-delimited data file\n",
    "cars <- read.csv(\"Cars.csv\")"
   ]
  },
  {
   "cell_type": "code",
   "execution_count": 3,
   "metadata": {},
   "outputs": [
    {
     "data": {
      "text/html": [
       "<table>\n",
       "<thead><tr><th scope=col>Name</th><th scope=col>Transmission</th><th scope=col>Cylinders</th><th scope=col>Fuel.Economy</th></tr></thead>\n",
       "<tbody>\n",
       "\t<tr><td>Mazda RX4     </td><td>Manual        </td><td>6             </td><td>21.0          </td></tr>\n",
       "\t<tr><td>Mazda RX4 Wag </td><td>Manual        </td><td>6             </td><td>21.0          </td></tr>\n",
       "\t<tr><td>Datsun 710    </td><td>Manual        </td><td>4             </td><td>22.8          </td></tr>\n",
       "\t<tr><td>Hornet 4 Drive</td><td>Automatic     </td><td>6             </td><td>21.4          </td></tr>\n",
       "\t<tr><td>Hornet Sport  </td><td>Automatic     </td><td>8             </td><td>18.7          </td></tr>\n",
       "\t<tr><td>Valiant       </td><td>Automatic     </td><td>6             </td><td>18.1          </td></tr>\n",
       "</tbody>\n",
       "</table>\n"
      ],
      "text/latex": [
       "\\begin{tabular}{r|llll}\n",
       " Name & Transmission & Cylinders & Fuel.Economy\\\\\n",
       "\\hline\n",
       "\t Mazda RX4      & Manual         & 6              & 21.0          \\\\\n",
       "\t Mazda RX4 Wag  & Manual         & 6              & 21.0          \\\\\n",
       "\t Datsun 710     & Manual         & 4              & 22.8          \\\\\n",
       "\t Hornet 4 Drive & Automatic      & 6              & 21.4          \\\\\n",
       "\t Hornet Sport   & Automatic      & 8              & 18.7          \\\\\n",
       "\t Valiant        & Automatic      & 6              & 18.1          \\\\\n",
       "\\end{tabular}\n"
      ],
      "text/markdown": [
       "\n",
       "Name | Transmission | Cylinders | Fuel.Economy | \n",
       "|---|---|---|---|---|---|\n",
       "| Mazda RX4      | Manual         | 6              | 21.0           | \n",
       "| Mazda RX4 Wag  | Manual         | 6              | 21.0           | \n",
       "| Datsun 710     | Manual         | 4              | 22.8           | \n",
       "| Hornet 4 Drive | Automatic      | 6              | 21.4           | \n",
       "| Hornet Sport   | Automatic      | 8              | 18.7           | \n",
       "| Valiant        | Automatic      | 6              | 18.1           | \n",
       "\n",
       "\n"
      ],
      "text/plain": [
       "  Name           Transmission Cylinders Fuel.Economy\n",
       "1 Mazda RX4      Manual       6         21.0        \n",
       "2 Mazda RX4 Wag  Manual       6         21.0        \n",
       "3 Datsun 710     Manual       4         22.8        \n",
       "4 Hornet 4 Drive Automatic    6         21.4        \n",
       "5 Hornet Sport   Automatic    8         18.7        \n",
       "6 Valiant        Automatic    6         18.1        "
      ]
     },
     "metadata": {},
     "output_type": "display_data"
    }
   ],
   "source": [
    "# Peek at the data\n",
    "head(cars)"
   ]
  },
  {
   "cell_type": "code",
   "execution_count": 4,
   "metadata": {},
   "outputs": [
    {
     "data": {
      "text/plain": [
       "\n",
       "Automatic    Manual \n",
       "       19        13 "
      ]
     },
     "metadata": {},
     "output_type": "display_data"
    }
   ],
   "source": [
    "# Create a frequency table\n",
    "table(cars$Transmission)"
   ]
  },
  {
   "cell_type": "code",
   "execution_count": 5,
   "metadata": {},
   "outputs": [
    {
     "data": {
      "text/html": [
       "10.4"
      ],
      "text/latex": [
       "10.4"
      ],
      "text/markdown": [
       "10.4"
      ],
      "text/plain": [
       "[1] 10.4"
      ]
     },
     "metadata": {},
     "output_type": "display_data"
    }
   ],
   "source": [
    "# Get the minimum value\n",
    "min(cars$Fuel.Economy)"
   ]
  },
  {
   "cell_type": "code",
   "execution_count": 6,
   "metadata": {},
   "outputs": [
    {
     "data": {
      "text/html": [
       "33.9"
      ],
      "text/latex": [
       "33.9"
      ],
      "text/markdown": [
       "33.9"
      ],
      "text/plain": [
       "[1] 33.9"
      ]
     },
     "metadata": {},
     "output_type": "display_data"
    }
   ],
   "source": [
    "# Get the maximum value\n",
    "max(cars$Fuel.Economy)"
   ]
  },
  {
   "cell_type": "code",
   "execution_count": 7,
   "metadata": {},
   "outputs": [
    {
     "data": {
      "text/html": [
       "20.090625"
      ],
      "text/latex": [
       "20.090625"
      ],
      "text/markdown": [
       "20.090625"
      ],
      "text/plain": [
       "[1] 20.09062"
      ]
     },
     "metadata": {},
     "output_type": "display_data"
    }
   ],
   "source": [
    "# Get the average value\n",
    "mean(cars$Fuel.Economy)"
   ]
  },
  {
   "cell_type": "code",
   "execution_count": 8,
   "metadata": {},
   "outputs": [
    {
     "data": {
      "text/html": [
       "19.2"
      ],
      "text/latex": [
       "19.2"
      ],
      "text/markdown": [
       "19.2"
      ],
      "text/plain": [
       "[1] 19.2"
      ]
     },
     "metadata": {},
     "output_type": "display_data"
    }
   ],
   "source": [
    "# Get the median value\n",
    "median(cars$Fuel.Economy)"
   ]
  },
  {
   "cell_type": "code",
   "execution_count": 9,
   "metadata": {},
   "outputs": [
    {
     "data": {
      "text/html": [
       "<dl class=dl-horizontal>\n",
       "\t<dt>0%</dt>\n",
       "\t\t<dd>10.4</dd>\n",
       "\t<dt>25%</dt>\n",
       "\t\t<dd>15.425</dd>\n",
       "\t<dt>50%</dt>\n",
       "\t\t<dd>19.2</dd>\n",
       "\t<dt>75%</dt>\n",
       "\t\t<dd>22.8</dd>\n",
       "\t<dt>100%</dt>\n",
       "\t\t<dd>33.9</dd>\n",
       "</dl>\n"
      ],
      "text/latex": [
       "\\begin{description*}\n",
       "\\item[0\\textbackslash{}\\%] 10.4\n",
       "\\item[25\\textbackslash{}\\%] 15.425\n",
       "\\item[50\\textbackslash{}\\%] 19.2\n",
       "\\item[75\\textbackslash{}\\%] 22.8\n",
       "\\item[100\\textbackslash{}\\%] 33.9\n",
       "\\end{description*}\n"
      ],
      "text/markdown": [
       "0%\n",
       ":   10.425%\n",
       ":   15.42550%\n",
       ":   19.275%\n",
       ":   22.8100%\n",
       ":   33.9\n",
       "\n"
      ],
      "text/plain": [
       "    0%    25%    50%    75%   100% \n",
       "10.400 15.425 19.200 22.800 33.900 "
      ]
     },
     "metadata": {},
     "output_type": "display_data"
    }
   ],
   "source": [
    "# Get the quartiles\n",
    "quantile(cars$Fuel.Economy)"
   ]
  },
  {
   "cell_type": "code",
   "execution_count": 10,
   "metadata": {},
   "outputs": [
    {
     "data": {
      "text/html": [
       "6.0269480520891"
      ],
      "text/latex": [
       "6.0269480520891"
      ],
      "text/markdown": [
       "6.0269480520891"
      ],
      "text/plain": [
       "[1] 6.026948"
      ]
     },
     "metadata": {},
     "output_type": "display_data"
    }
   ],
   "source": [
    "# Get the standard deviation\n",
    "sd(cars$Fuel.Economy)"
   ]
  },
  {
   "cell_type": "code",
   "execution_count": 11,
   "metadata": {},
   "outputs": [
    {
     "data": {
      "text/html": [
       "642.9"
      ],
      "text/latex": [
       "642.9"
      ],
      "text/markdown": [
       "642.9"
      ],
      "text/plain": [
       "[1] 642.9"
      ]
     },
     "metadata": {},
     "output_type": "display_data"
    }
   ],
   "source": [
    "# Get the total value\n",
    "sum(cars$Fuel.Economy)"
   ]
  },
  {
   "cell_type": "code",
   "execution_count": 12,
   "metadata": {},
   "outputs": [
    {
     "data": {
      "text/html": [
       "-0.852161959426613"
      ],
      "text/latex": [
       "-0.852161959426613"
      ],
      "text/markdown": [
       "-0.852161959426613"
      ],
      "text/plain": [
       "[1] -0.852162"
      ]
     },
     "metadata": {},
     "output_type": "display_data"
    }
   ],
   "source": [
    "# Get the corelation coefficient\n",
    "cor(x=cars$Cylinders, y=cars$Fuel.Economy)"
   ]
  },
  {
   "cell_type": "code",
   "execution_count": 13,
   "metadata": {},
   "outputs": [
    {
     "data": {
      "text/plain": [
       "                 Name       Transmission   Cylinders      Fuel.Economy  \n",
       " AMC Javelin       : 1   Automatic:19    Min.   :4.000   Min.   :10.40  \n",
       " Cadillac Fleetwood: 1   Manual   :13    1st Qu.:4.000   1st Qu.:15.43  \n",
       " Camaro Z28        : 1                   Median :6.000   Median :19.20  \n",
       " Chrysler Imperial : 1                   Mean   :6.188   Mean   :20.09  \n",
       " Datsun 710        : 1                   3rd Qu.:8.000   3rd Qu.:22.80  \n",
       " Dodge Challenger  : 1                   Max.   :8.000   Max.   :33.90  \n",
       " (Other)           :26                                                  "
      ]
     },
     "metadata": {},
     "output_type": "display_data"
    }
   ],
   "source": [
    "# Summarize an entire table\n",
    "summary(cars)"
   ]
  }
 ],
 "metadata": {
  "kernelspec": {
   "display_name": "R",
   "language": "R",
   "name": "ir"
  },
  "language_info": {
   "codemirror_mode": "r",
   "file_extension": ".r",
   "mimetype": "text/x-r-source",
   "name": "R",
   "pygments_lexer": "r",
   "version": "3.4.4"
  }
 },
 "nbformat": 4,
 "nbformat_minor": 2
}
