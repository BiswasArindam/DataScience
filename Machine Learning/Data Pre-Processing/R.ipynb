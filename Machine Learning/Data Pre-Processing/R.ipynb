{
 "cells": [
  {
   "cell_type": "markdown",
   "metadata": {},
   "source": [
    "### Data Pre-Processing"
   ]
  },
  {
   "cell_type": "code",
   "execution_count": 50,
   "metadata": {},
   "outputs": [],
   "source": [
    "# Importing the dataset\n",
    "dataset = read.csv('Data.csv')"
   ]
  },
  {
   "cell_type": "code",
   "execution_count": 51,
   "metadata": {},
   "outputs": [],
   "source": [
    "# Taking care of missing data\n",
    "dataset$Age = ifelse(is.na(dataset$Age), ave(dataset$Age, FUN = function(x) mean(x, na.rm=TRUE)), dataset$Age)\n",
    "dataset$Salary = ifelse(is.na(dataset$Salary), ave(dataset$Salary, FUN = function(x) mean(x, na.rm=TRUE)), dataset$Salary)"
   ]
  },
  {
   "cell_type": "code",
   "execution_count": 52,
   "metadata": {},
   "outputs": [],
   "source": [
    "# Encoding categorical data\n",
    "dataset$Country = factor(dataset$Country, levels = c('France', 'Germany', 'Spain'), labels = c(1,2,3))\n",
    "dataset$Purchased = factor(dataset$Purchased, levels = c('Yes', 'No'), labels = c(0,1))"
   ]
  },
  {
   "cell_type": "code",
   "execution_count": 53,
   "metadata": {},
   "outputs": [],
   "source": [
    "# Splitting the data into training-set and test-set\n",
    "library(caTools)\n",
    "set.seed(123)\n",
    "split = sample.split(dataset$Purchased, SplitRatio=0.8)\n",
    "training_set = subset(dataset, split==TRUE)\n",
    "test_set = subset(dataset, split==FALSE)"
   ]
  },
  {
   "cell_type": "code",
   "execution_count": 54,
   "metadata": {},
   "outputs": [],
   "source": [
    "# Feature scaling\n",
    "training_set[,2:3] = scale(training_set[,2:3])\n",
    "test_set[,2:3] = scale(test_set[,2:3])"
   ]
  }
 ],
 "metadata": {
  "kernelspec": {
   "display_name": "R",
   "language": "R",
   "name": "ir"
  },
  "language_info": {
   "codemirror_mode": "r",
   "file_extension": ".r",
   "mimetype": "text/x-r-source",
   "name": "R",
   "pygments_lexer": "r",
   "version": "3.4.3"
  }
 },
 "nbformat": 4,
 "nbformat_minor": 2
}
